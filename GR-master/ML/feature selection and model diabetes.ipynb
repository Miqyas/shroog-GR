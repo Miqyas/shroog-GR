{
 "cells": [
  {
   "cell_type": "code",
   "execution_count": 1,
   "metadata": {},
   "outputs": [],
   "source": [
    "import numpy as np\n",
    "import pandas as pd\n",
    "import matplotlib.pyplot as plt\n",
    "from sklearn.feature_selection import RFE\n",
    "from sklearn.tree import DecisionTreeClassifier\n",
    "from sklearn.neighbors import KNeighborsClassifier\n",
    "from sklearn.ensemble import RandomForestClassifier\n",
    "from sklearn.neural_network import MLPClassifier\n",
    "from sklearn.naive_bayes import GaussianNB\n",
    "from sklearn.svm import SVC\n",
    "from sklearn.linear_model import LogisticRegression\n",
    "from sklearn.model_selection import train_test_split\n",
    "from sklearn.metrics import classification_report , f1_score ,recall_score , precision_score,accuracy_score ,confusion_matrix ,roc_curve, auc, roc_auc_score\n",
    "from sklearn.model_selection import GridSearchCV\n",
    "from mlxtend.feature_selection import SequentialFeatureSelector as SFS"
   ]
  },
  {
   "cell_type": "code",
   "execution_count": 3,
   "metadata": {},
   "outputs": [
    {
     "data": {
      "text/plain": [
       "((768, 8), (768,))"
      ]
     },
     "execution_count": 3,
     "metadata": {},
     "output_type": "execute_result"
    }
   ],
   "source": [
    "dataset2 = pd.read_csv(\"dataset2.csv\",delimiter=\",\")\n",
    "array = dataset2.values\n",
    "#Split dataset\n",
    "#Sample vectors\n",
    "X = array[:,1:9]\n",
    "# Target vector (class labels) \n",
    "y = array[:,9]\n",
    "# Print the shape of the array\n",
    "X.shape, y.shape"
   ]
  },
  {
   "cell_type": "code",
   "execution_count": 4,
   "metadata": {},
   "outputs": [],
   "source": [
    "X_train, X_test, y_train, y_test = train_test_split(X,y,test_size=0.2 ,random_state=42)"
   ]
  },
  {
   "cell_type": "code",
   "execution_count": 16,
   "metadata": {},
   "outputs": [
    {
     "name": "stdout",
     "output_type": "stream",
     "text": [
      "              precision    recall  f1-score   support\n",
      "\n",
      "         0.0       0.80      0.84      0.82        99\n",
      "         1.0       0.68      0.62      0.65        55\n",
      "\n",
      "    accuracy                           0.76       154\n",
      "   macro avg       0.74      0.73      0.73       154\n",
      "weighted avg       0.76      0.76      0.76       154\n",
      "\n",
      "Accuracy:  0.7597402597402597\n"
     ]
    }
   ],
   "source": [
    "svc = SVC(kernel='linear')\n",
    "model = svc.fit(X_train, y_train)\n",
    "y_pred = svc.predict(X_test)\n",
    "confusion_matrix(y_test, y_pred)\n",
    "confusion_matrix(y_test, y_pred)\n",
    "classi=classification_report(y_test,y_pred)\n",
    "print(classi)\n",
    "print('Accuracy: ', accuracy_score(y_test, y_pred))"
   ]
  },
  {
   "cell_type": "code",
   "execution_count": 10,
   "metadata": {},
   "outputs": [
    {
     "name": "stderr",
     "output_type": "stream",
     "text": [
      "[Parallel(n_jobs=-1)]: Using backend LokyBackend with 4 concurrent workers.\n",
      "[Parallel(n_jobs=-1)]: Done   6 out of   8 | elapsed:    3.4s remaining:    1.1s\n",
      "[Parallel(n_jobs=-1)]: Done   8 out of   8 | elapsed:    3.4s finished\n",
      "\n",
      "[2020-02-02 10:29:12] Features: 1/5 -- score: 0.7002951718321737[Parallel(n_jobs=-1)]: Using backend LokyBackend with 4 concurrent workers.\n",
      "[Parallel(n_jobs=-1)]: Done   4 out of   7 | elapsed:    0.1s remaining:    0.1s\n",
      "[Parallel(n_jobs=-1)]: Done   7 out of   7 | elapsed:    0.2s finished\n",
      "\n",
      "[2020-02-02 10:29:12] Features: 2/5 -- score: 0.7116909129243094[Parallel(n_jobs=-1)]: Using backend LokyBackend with 4 concurrent workers.\n",
      "[Parallel(n_jobs=-1)]: Done   3 out of   6 | elapsed:    0.0s remaining:    0.0s\n",
      "[Parallel(n_jobs=-1)]: Done   6 out of   6 | elapsed:    0.1s finished\n",
      "\n",
      "[2020-02-02 10:29:13] Features: 3/5 -- score: 0.7036474804975754[Parallel(n_jobs=-1)]: Using backend LokyBackend with 4 concurrent workers.\n",
      "[Parallel(n_jobs=-1)]: Done   5 out of   5 | elapsed:    0.2s finished\n",
      "\n",
      "[2020-02-02 10:29:13] Features: 4/5 -- score: 0.6563461943917352[Parallel(n_jobs=-1)]: Using backend LokyBackend with 4 concurrent workers.\n",
      "[Parallel(n_jobs=-1)]: Done   4 out of   4 | elapsed:    0.1s finished\n",
      "\n",
      "[2020-02-02 10:29:13] Features: 5/5 -- score: 0.6547543748682269"
     ]
    }
   ],
   "source": [
    "sfs = SFS(SVC(), k_features = 5, forward= True,\n",
    "          floating = False, verbose= 2,  scoring= 'accuracy',  cv = 4, n_jobs= -1).fit(X_train, y_train)"
   ]
  },
  {
   "cell_type": "code",
   "execution_count": 15,
   "metadata": {},
   "outputs": [
    {
     "name": "stdout",
     "output_type": "stream",
     "text": [
      "              precision    recall  f1-score   support\n",
      "\n",
      "         0.0       0.76      0.88      0.81        99\n",
      "         1.0       0.69      0.49      0.57        55\n",
      "\n",
      "    accuracy                           0.74       154\n",
      "   macro avg       0.72      0.68      0.69       154\n",
      "weighted avg       0.73      0.74      0.73       154\n",
      "\n",
      "Accuracy:  0.7402597402597403\n"
     ]
    }
   ],
   "source": [
    "mlp = MLPClassifier(hidden_layer_sizes=(8,8,8), activation='relu', solver='adam', max_iter=500,random_state=42)\n",
    "mlp.fit(X_train,y_train)\n",
    "y_pred = mlp.predict(X_test)\n",
    "predict_train = mlp.predict(X_train)\n",
    "predict_test = mlp.predict(X_test)\n",
    "classi=classification_report(y_test,y_pred)\n",
    "print(classi)\n",
    "print('Accuracy: ', accuracy_score(y_test, y_pred))"
   ]
  },
  {
   "cell_type": "code",
   "execution_count": 13,
   "metadata": {},
   "outputs": [
    {
     "name": "stderr",
     "output_type": "stream",
     "text": [
      "[Parallel(n_jobs=-1)]: Using backend LokyBackend with 4 concurrent workers.\n",
      "[Parallel(n_jobs=-1)]: Done   6 out of   8 | elapsed:    3.3s remaining:    1.0s\n",
      "[Parallel(n_jobs=-1)]: Done   8 out of   8 | elapsed:    6.0s finished\n",
      "\n",
      "[2020-02-02 10:33:07] Features: 1/7 -- score: 0.7394897744043855[Parallel(n_jobs=-1)]: Using backend LokyBackend with 4 concurrent workers.\n",
      "[Parallel(n_jobs=-1)]: Done   4 out of   7 | elapsed:    5.6s remaining:    4.1s\n",
      "[Parallel(n_jobs=-1)]: Done   7 out of   7 | elapsed:    8.7s finished\n",
      "\n",
      "[2020-02-02 10:33:16] Features: 2/7 -- score: 0.7362639679527725[Parallel(n_jobs=-1)]: Using backend LokyBackend with 4 concurrent workers.\n",
      "[Parallel(n_jobs=-1)]: Done   3 out of   6 | elapsed:    7.3s remaining:    7.3s\n",
      "[Parallel(n_jobs=-1)]: Done   6 out of   6 | elapsed:   12.0s finished\n",
      "\n",
      "[2020-02-02 10:33:28] Features: 3/7 -- score: 0.7492304448661185[Parallel(n_jobs=-1)]: Using backend LokyBackend with 4 concurrent workers.\n",
      "[Parallel(n_jobs=-1)]: Done   5 out of   5 | elapsed:    9.6s finished\n",
      "\n",
      "[2020-02-02 10:33:38] Features: 4/7 -- score: 0.74112376133249[Parallel(n_jobs=-1)]: Using backend LokyBackend with 4 concurrent workers.\n",
      "[Parallel(n_jobs=-1)]: Done   4 out of   4 | elapsed:    7.0s finished\n",
      "\n",
      "[2020-02-02 10:33:45] Features: 5/7 -- score: 0.7393843558928948[Parallel(n_jobs=-1)]: Using backend LokyBackend with 4 concurrent workers.\n",
      "[Parallel(n_jobs=-1)]: Done   3 out of   3 | elapsed:    6.1s finished\n",
      "\n",
      "[2020-02-02 10:33:51] Features: 6/7 -- score: 0.7492304448661185[Parallel(n_jobs=-1)]: Using backend LokyBackend with 4 concurrent workers.\n",
      "[Parallel(n_jobs=-1)]: Done   2 out of   2 | elapsed:    3.3s finished\n",
      "\n",
      "[2020-02-02 10:33:54] Features: 7/7 -- score: 0.7296647691334598"
     ]
    }
   ],
   "source": [
    "sfs = SFS(MLPClassifier(hidden_layer_sizes=(8,8,8), activation='relu', solver='adam', max_iter=500,random_state=42), k_features = 7, forward= True,\n",
    "          floating = False, verbose= 2,  scoring= 'accuracy',  cv = 4, n_jobs= -1).fit(X_train, y_train)"
   ]
  },
  {
   "cell_type": "code",
   "execution_count": 14,
   "metadata": {},
   "outputs": [
    {
     "name": "stdout",
     "output_type": "stream",
     "text": [
      "              precision    recall  f1-score   support\n",
      "\n",
      "         0.0       0.83      0.79      0.81        99\n",
      "         1.0       0.65      0.71      0.68        55\n",
      "\n",
      "    accuracy                           0.76       154\n",
      "   macro avg       0.74      0.75      0.74       154\n",
      "weighted avg       0.77      0.76      0.76       154\n",
      "\n",
      "Accuracy:  0.7597402597402597\n"
     ]
    }
   ],
   "source": [
    "naive = GaussianNB().fit(X_train, y_train)\n",
    "y_pred = naive.predict(X_test)\n",
    "confusion_matrix(y_test, y_pred)\n",
    "classi=classification_report(y_test,y_pred)\n",
    "print(classi)\n",
    "print('Accuracy: ', accuracy_score(y_test, y_pred))"
   ]
  },
  {
   "cell_type": "code",
   "execution_count": 17,
   "metadata": {},
   "outputs": [
    {
     "name": "stderr",
     "output_type": "stream",
     "text": [
      "[Parallel(n_jobs=-1)]: Using backend LokyBackend with 4 concurrent workers.\n",
      "[Parallel(n_jobs=-1)]: Done   6 out of   8 | elapsed:    0.0s remaining:    0.0s\n",
      "[Parallel(n_jobs=-1)]: Done   8 out of   8 | elapsed:    0.0s finished\n",
      "\n",
      "[2020-02-02 10:33:59] Features: 1/7 -- score: 0.7459624710099093[Parallel(n_jobs=-1)]: Using backend LokyBackend with 4 concurrent workers.\n",
      "[Parallel(n_jobs=-1)]: Done   4 out of   7 | elapsed:    0.0s remaining:    0.0s\n",
      "[Parallel(n_jobs=-1)]: Done   7 out of   7 | elapsed:    0.0s finished\n",
      "\n",
      "[2020-02-02 10:33:59] Features: 2/7 -- score: 0.7703879401222854[Parallel(n_jobs=-1)]: Using backend LokyBackend with 4 concurrent workers.\n",
      "[Parallel(n_jobs=-1)]: Done   3 out of   6 | elapsed:    0.0s remaining:    0.0s\n",
      "[Parallel(n_jobs=-1)]: Done   6 out of   6 | elapsed:    0.0s finished\n",
      "\n",
      "[2020-02-02 10:33:59] Features: 3/7 -- score: 0.7686907020872865[Parallel(n_jobs=-1)]: Using backend LokyBackend with 4 concurrent workers.\n",
      "[Parallel(n_jobs=-1)]: Done   5 out of   5 | elapsed:    0.0s finished\n",
      "\n",
      "[2020-02-02 10:33:59] Features: 4/7 -- score: 0.7687328694918827[Parallel(n_jobs=-1)]: Using backend LokyBackend with 4 concurrent workers.\n",
      "[Parallel(n_jobs=-1)]: Done   4 out of   4 | elapsed:    0.0s finished\n",
      "\n",
      "[2020-02-02 10:33:59] Features: 5/7 -- score: 0.7703668564199873[Parallel(n_jobs=-1)]: Using backend LokyBackend with 4 concurrent workers.\n",
      "[Parallel(n_jobs=-1)]: Done   3 out of   3 | elapsed:    0.0s finished\n",
      "\n",
      "[2020-02-02 10:33:59] Features: 6/7 -- score: 0.7540480708412397[Parallel(n_jobs=-1)]: Using backend LokyBackend with 4 concurrent workers.\n",
      "[Parallel(n_jobs=-1)]: Done   2 out of   2 | elapsed:    0.0s finished\n",
      "\n",
      "[2020-02-02 10:33:59] Features: 7/7 -- score: 0.7524562513177314"
     ]
    }
   ],
   "source": [
    "sfs = SFS(GaussianNB(), k_features = 7, forward= True,\n",
    "          floating = False, verbose= 2,  scoring= 'accuracy',  cv = 4, n_jobs= -1).fit(X_train, y_train)"
   ]
  },
  {
   "cell_type": "code",
   "execution_count": 18,
   "metadata": {},
   "outputs": [
    {
     "name": "stdout",
     "output_type": "stream",
     "text": [
      "              precision    recall  f1-score   support\n",
      "\n",
      "         0.0       0.80      0.73      0.76        99\n",
      "         1.0       0.58      0.67      0.62        55\n",
      "\n",
      "    accuracy                           0.71       154\n",
      "   macro avg       0.69      0.70      0.69       154\n",
      "weighted avg       0.72      0.71      0.71       154\n",
      "\n",
      "Accuracy:  0.7077922077922078\n"
     ]
    }
   ],
   "source": [
    "clf = KNeighborsClassifier(n_neighbors=9).fit(X_train, y_train)\n",
    "y_pred = clf.predict(X_test)\n",
    "confusion_matrix(y_test, y_pred)\n",
    "classi=classification_report(y_test,y_pred)\n",
    "print(classi)\n",
    "print('Accuracy: ', accuracy_score(y_test, y_pred))"
   ]
  },
  {
   "cell_type": "code",
   "execution_count": 27,
   "metadata": {},
   "outputs": [
    {
     "name": "stderr",
     "output_type": "stream",
     "text": [
      "[Parallel(n_jobs=-1)]: Using backend LokyBackend with 4 concurrent workers.\n",
      "[Parallel(n_jobs=-1)]: Done   6 out of   8 | elapsed:    0.0s remaining:    0.0s\n",
      "[Parallel(n_jobs=-1)]: Done   8 out of   8 | elapsed:    0.1s finished\n",
      "\n",
      "[2020-02-02 10:36:36] Features: 1/7 -- score: 0.6971115327851571[Parallel(n_jobs=-1)]: Using backend LokyBackend with 4 concurrent workers.\n",
      "[Parallel(n_jobs=-1)]: Done   4 out of   7 | elapsed:    0.0s remaining:    0.0s\n",
      "[Parallel(n_jobs=-1)]: Done   7 out of   7 | elapsed:    0.0s finished\n",
      "\n",
      "[2020-02-02 10:36:36] Features: 2/7 -- score: 0.7329116592873709[Parallel(n_jobs=-1)]: Using backend LokyBackend with 4 concurrent workers.\n",
      "[Parallel(n_jobs=-1)]: Done   3 out of   6 | elapsed:    0.0s remaining:    0.0s\n",
      "[Parallel(n_jobs=-1)]: Done   6 out of   6 | elapsed:    0.0s finished\n",
      "\n",
      "[2020-02-02 10:36:36] Features: 3/7 -- score: 0.7395108581066836[Parallel(n_jobs=-1)]: Using backend LokyBackend with 4 concurrent workers.\n",
      "[Parallel(n_jobs=-1)]: Done   5 out of   5 | elapsed:    0.0s finished\n",
      "\n",
      "[2020-02-02 10:36:37] Features: 4/7 -- score: 0.7476386253426102[Parallel(n_jobs=-1)]: Using backend LokyBackend with 4 concurrent workers.\n",
      "[Parallel(n_jobs=-1)]: Done   4 out of   4 | elapsed:    0.0s finished\n",
      "\n",
      "[2020-02-02 10:36:37] Features: 5/7 -- score: 0.7541113219481341[Parallel(n_jobs=-1)]: Using backend LokyBackend with 4 concurrent workers.\n",
      "[Parallel(n_jobs=-1)]: Done   3 out of   3 | elapsed:    0.0s finished\n",
      "\n",
      "[2020-02-02 10:36:37] Features: 6/7 -- score: 0.7541113219481341[Parallel(n_jobs=-1)]: Using backend LokyBackend with 4 concurrent workers.\n",
      "[Parallel(n_jobs=-1)]: Done   2 out of   2 | elapsed:    0.0s finished\n",
      "\n",
      "[2020-02-02 10:36:37] Features: 7/7 -- score: 0.7540269871389416"
     ]
    }
   ],
   "source": [
    "sfs = SFS(KNeighborsClassifier(), k_features = 7, forward= True,\n",
    "          floating = False, verbose= 2,  scoring= 'accuracy',  cv = 4, n_jobs= -1).fit(X_train, y_train)"
   ]
  },
  {
   "cell_type": "code",
   "execution_count": 20,
   "metadata": {},
   "outputs": [],
   "source": [
    "def run_DecisionTree(X_train, X_test, y_train, y_test):\n",
    "    clf = DecisionTreeClassifier(random_state=1).fit(X_train, y_train)\n",
    "    y_pred = clf.predict(X_test)\n",
    "    confusion_matrix(y_test, y_pred)\n",
    "    classi=classification_report(y_test,y_pred)\n",
    "    print(classi)\n",
    "    print('Accuracy: ', accuracy_score(y_test, y_pred))"
   ]
  },
  {
   "cell_type": "code",
   "execution_count": 21,
   "metadata": {},
   "outputs": [
    {
     "name": "stdout",
     "output_type": "stream",
     "text": [
      "The result of Decision Tree before features selection:\n",
      "              precision    recall  f1-score   support\n",
      "\n",
      "         0.0       0.83      0.75      0.79        99\n",
      "         1.0       0.62      0.73      0.67        55\n",
      "\n",
      "    accuracy                           0.74       154\n",
      "   macro avg       0.72      0.74      0.73       154\n",
      "weighted avg       0.75      0.74      0.74       154\n",
      "\n",
      "Accuracy:  0.7402597402597403\n",
      "Wall time: 121 ms\n"
     ]
    }
   ],
   "source": [
    "%%time\n",
    "print(\"The result of Decision Tree before features selection:\")\n",
    "run_DecisionTree(X_train, X_test, y_train, y_test)"
   ]
  },
  {
   "cell_type": "code",
   "execution_count": 22,
   "metadata": {},
   "outputs": [
    {
     "name": "stdout",
     "output_type": "stream",
     "text": [
      "Selected Feature:  1\n",
      "              precision    recall  f1-score   support\n",
      "\n",
      "         0.0       0.71      0.82      0.76        99\n",
      "         1.0       0.55      0.40      0.46        55\n",
      "\n",
      "    accuracy                           0.67       154\n",
      "   macro avg       0.63      0.61      0.61       154\n",
      "weighted avg       0.65      0.67      0.65       154\n",
      "\n",
      "Accuracy:  0.6688311688311688\n",
      "\n",
      "Selected Feature:  2\n",
      "              precision    recall  f1-score   support\n",
      "\n",
      "         0.0       0.74      0.71      0.73        99\n",
      "         1.0       0.52      0.56      0.54        55\n",
      "\n",
      "    accuracy                           0.66       154\n",
      "   macro avg       0.63      0.64      0.63       154\n",
      "weighted avg       0.66      0.66      0.66       154\n",
      "\n",
      "Accuracy:  0.6558441558441559\n",
      "\n",
      "Selected Feature:  3\n",
      "              precision    recall  f1-score   support\n",
      "\n",
      "         0.0       0.77      0.81      0.79        99\n",
      "         1.0       0.62      0.56      0.59        55\n",
      "\n",
      "    accuracy                           0.72       154\n",
      "   macro avg       0.69      0.69      0.69       154\n",
      "weighted avg       0.72      0.72      0.72       154\n",
      "\n",
      "Accuracy:  0.7207792207792207\n",
      "\n",
      "Selected Feature:  4\n",
      "              precision    recall  f1-score   support\n",
      "\n",
      "         0.0       0.85      0.76      0.80        99\n",
      "         1.0       0.64      0.76      0.69        55\n",
      "\n",
      "    accuracy                           0.76       154\n",
      "   macro avg       0.74      0.76      0.75       154\n",
      "weighted avg       0.78      0.76      0.76       154\n",
      "\n",
      "Accuracy:  0.7597402597402597\n",
      "\n",
      "Selected Feature:  5\n",
      "              precision    recall  f1-score   support\n",
      "\n",
      "         0.0       0.79      0.77      0.78        99\n",
      "         1.0       0.60      0.64      0.62        55\n",
      "\n",
      "    accuracy                           0.72       154\n",
      "   macro avg       0.70      0.70      0.70       154\n",
      "weighted avg       0.72      0.72      0.72       154\n",
      "\n",
      "Accuracy:  0.7207792207792207\n",
      "\n",
      "Selected Feature:  6\n",
      "              precision    recall  f1-score   support\n",
      "\n",
      "         0.0       0.85      0.73      0.78        99\n",
      "         1.0       0.61      0.76      0.68        55\n",
      "\n",
      "    accuracy                           0.74       154\n",
      "   macro avg       0.73      0.75      0.73       154\n",
      "weighted avg       0.76      0.74      0.75       154\n",
      "\n",
      "Accuracy:  0.7402597402597403\n",
      "\n",
      "Selected Feature:  7\n",
      "              precision    recall  f1-score   support\n",
      "\n",
      "         0.0       0.85      0.74      0.79        99\n",
      "         1.0       0.62      0.76      0.68        55\n",
      "\n",
      "    accuracy                           0.75       154\n",
      "   macro avg       0.73      0.75      0.74       154\n",
      "weighted avg       0.77      0.75      0.75       154\n",
      "\n",
      "Accuracy:  0.7467532467532467\n",
      "\n",
      "Selected Feature:  8\n",
      "              precision    recall  f1-score   support\n",
      "\n",
      "         0.0       0.83      0.75      0.79        99\n",
      "         1.0       0.62      0.73      0.67        55\n",
      "\n",
      "    accuracy                           0.74       154\n",
      "   macro avg       0.72      0.74      0.73       154\n",
      "weighted avg       0.75      0.74      0.74       154\n",
      "\n",
      "Accuracy:  0.7402597402597403\n",
      "\n",
      "Selected Feature:  9\n",
      "              precision    recall  f1-score   support\n",
      "\n",
      "         0.0       0.83      0.75      0.79        99\n",
      "         1.0       0.62      0.73      0.67        55\n",
      "\n",
      "    accuracy                           0.74       154\n",
      "   macro avg       0.72      0.74      0.73       154\n",
      "weighted avg       0.75      0.74      0.74       154\n",
      "\n",
      "Accuracy:  0.7402597402597403\n",
      "\n",
      "Selected Feature:  10\n",
      "              precision    recall  f1-score   support\n",
      "\n",
      "         0.0       0.83      0.75      0.79        99\n",
      "         1.0       0.62      0.73      0.67        55\n",
      "\n",
      "    accuracy                           0.74       154\n",
      "   macro avg       0.72      0.74      0.73       154\n",
      "weighted avg       0.75      0.74      0.74       154\n",
      "\n",
      "Accuracy:  0.7402597402597403\n",
      "\n"
     ]
    }
   ],
   "source": [
    "for index in range(1, 11):\n",
    "    sel = RFE(DecisionTreeClassifier(), n_features_to_select = index)\n",
    "    sel.fit(X_train, y_train)\n",
    "    sel.get_support()\n",
    "    X_train_rfe = sel.transform(X_train)\n",
    "    X_test_rfe = sel.transform(X_test)\n",
    "    print('Selected Feature: ', index)\n",
    "    run_DecisionTree(X_train_rfe, X_test_rfe, y_train, y_test)\n",
    "    print()"
   ]
  },
  {
   "cell_type": "code",
   "execution_count": 23,
   "metadata": {},
   "outputs": [],
   "source": [
    "def run_randomForest(X_train, X_test, y_train, y_test):\n",
    "    clf = RandomForestClassifier(n_estimators=100, random_state=42, n_jobs=-1)\n",
    "    clf.fit(X_train, y_train)\n",
    "    y_pred = clf.predict(X_test)\n",
    "    confusion_matrix(y_test, y_pred)\n",
    "    classi=classification_report(y_test,y_pred)\n",
    "    print(classi)\n",
    "    print('Accuracy: ', accuracy_score(y_test, y_pred))"
   ]
  },
  {
   "cell_type": "code",
   "execution_count": 24,
   "metadata": {},
   "outputs": [
    {
     "name": "stdout",
     "output_type": "stream",
     "text": [
      "The result of Ranodm forest before features selection:\n",
      "              precision    recall  f1-score   support\n",
      "\n",
      "         0.0       0.81      0.82      0.81        99\n",
      "         1.0       0.67      0.65      0.66        55\n",
      "\n",
      "    accuracy                           0.76       154\n",
      "   macro avg       0.74      0.74      0.74       154\n",
      "weighted avg       0.76      0.76      0.76       154\n",
      "\n",
      "Accuracy:  0.7597402597402597\n",
      "Wall time: 591 ms\n"
     ]
    }
   ],
   "source": [
    "%%time\n",
    "print(\"The result of Ranodm forest before features selection:\")\n",
    "run_randomForest(X_train, X_test, y_train, y_test)"
   ]
  },
  {
   "cell_type": "code",
   "execution_count": 25,
   "metadata": {},
   "outputs": [
    {
     "name": "stdout",
     "output_type": "stream",
     "text": [
      "Selected Feature:  1\n",
      "              precision    recall  f1-score   support\n",
      "\n",
      "         0.0       0.73      0.75      0.74        99\n",
      "         1.0       0.53      0.51      0.52        55\n",
      "\n",
      "    accuracy                           0.66       154\n",
      "   macro avg       0.63      0.63      0.63       154\n",
      "weighted avg       0.66      0.66      0.66       154\n",
      "\n",
      "Accuracy:  0.6623376623376623\n",
      "\n",
      "Selected Feature:  2\n",
      "              precision    recall  f1-score   support\n",
      "\n",
      "         0.0       0.77      0.80      0.79        99\n",
      "         1.0       0.62      0.58      0.60        55\n",
      "\n",
      "    accuracy                           0.72       154\n",
      "   macro avg       0.69      0.69      0.69       154\n",
      "weighted avg       0.72      0.72      0.72       154\n",
      "\n",
      "Accuracy:  0.7207792207792207\n",
      "\n",
      "Selected Feature:  3\n",
      "              precision    recall  f1-score   support\n",
      "\n",
      "         0.0       0.81      0.78      0.79        99\n",
      "         1.0       0.63      0.67      0.65        55\n",
      "\n",
      "    accuracy                           0.74       154\n",
      "   macro avg       0.72      0.73      0.72       154\n",
      "weighted avg       0.75      0.74      0.74       154\n",
      "\n",
      "Accuracy:  0.7402597402597403\n",
      "\n",
      "Selected Feature:  4\n",
      "              precision    recall  f1-score   support\n",
      "\n",
      "         0.0       0.83      0.78      0.80        99\n",
      "         1.0       0.64      0.71      0.67        55\n",
      "\n",
      "    accuracy                           0.75       154\n",
      "   macro avg       0.73      0.74      0.74       154\n",
      "weighted avg       0.76      0.75      0.76       154\n",
      "\n",
      "Accuracy:  0.7532467532467533\n",
      "\n",
      "Selected Feature:  5\n",
      "              precision    recall  f1-score   support\n",
      "\n",
      "         0.0       0.83      0.80      0.81        99\n",
      "         1.0       0.66      0.71      0.68        55\n",
      "\n",
      "    accuracy                           0.77       154\n",
      "   macro avg       0.75      0.75      0.75       154\n",
      "weighted avg       0.77      0.77      0.77       154\n",
      "\n",
      "Accuracy:  0.7662337662337663\n",
      "\n",
      "Selected Feature:  6\n",
      "              precision    recall  f1-score   support\n",
      "\n",
      "         0.0       0.82      0.78      0.80        99\n",
      "         1.0       0.63      0.69      0.66        55\n",
      "\n",
      "    accuracy                           0.75       154\n",
      "   macro avg       0.73      0.73      0.73       154\n",
      "weighted avg       0.75      0.75      0.75       154\n",
      "\n",
      "Accuracy:  0.7467532467532467\n",
      "\n",
      "Selected Feature:  7\n",
      "              precision    recall  f1-score   support\n",
      "\n",
      "         0.0       0.82      0.81      0.82        99\n",
      "         1.0       0.67      0.69      0.68        55\n",
      "\n",
      "    accuracy                           0.77       154\n",
      "   macro avg       0.75      0.75      0.75       154\n",
      "weighted avg       0.77      0.77      0.77       154\n",
      "\n",
      "Accuracy:  0.7662337662337663\n",
      "\n",
      "Selected Feature:  8\n",
      "              precision    recall  f1-score   support\n",
      "\n",
      "         0.0       0.81      0.82      0.81        99\n",
      "         1.0       0.67      0.65      0.66        55\n",
      "\n",
      "    accuracy                           0.76       154\n",
      "   macro avg       0.74      0.74      0.74       154\n",
      "weighted avg       0.76      0.76      0.76       154\n",
      "\n",
      "Accuracy:  0.7597402597402597\n",
      "\n",
      "Selected Feature:  9\n",
      "              precision    recall  f1-score   support\n",
      "\n",
      "         0.0       0.81      0.82      0.81        99\n",
      "         1.0       0.67      0.65      0.66        55\n",
      "\n",
      "    accuracy                           0.76       154\n",
      "   macro avg       0.74      0.74      0.74       154\n",
      "weighted avg       0.76      0.76      0.76       154\n",
      "\n",
      "Accuracy:  0.7597402597402597\n",
      "\n",
      "Selected Feature:  10\n",
      "              precision    recall  f1-score   support\n",
      "\n",
      "         0.0       0.81      0.82      0.81        99\n",
      "         1.0       0.67      0.65      0.66        55\n",
      "\n",
      "    accuracy                           0.76       154\n",
      "   macro avg       0.74      0.74      0.74       154\n",
      "weighted avg       0.76      0.76      0.76       154\n",
      "\n",
      "Accuracy:  0.7597402597402597\n",
      "\n"
     ]
    }
   ],
   "source": [
    "for index in range(1, 11):\n",
    "    sel = RFE(RandomForestClassifier(n_estimators=100, random_state=42), n_features_to_select = index).fit(X_train, y_train)\n",
    "    sel.get_support()\n",
    "    X_train_rfe = sel.transform(X_train)\n",
    "    X_test_rfe = sel.transform(X_test)\n",
    "    print('Selected Feature: ', index)\n",
    "    run_randomForest(X_train_rfe, X_test_rfe, y_train, y_test)\n",
    "    print()"
   ]
  },
  {
   "cell_type": "code",
   "execution_count": null,
   "metadata": {},
   "outputs": [],
   "source": []
  }
 ],
 "metadata": {
  "kernelspec": {
   "display_name": "Python 3",
   "language": "python",
   "name": "python3"
  },
  "language_info": {
   "codemirror_mode": {
    "name": "ipython",
    "version": 3
   },
   "file_extension": ".py",
   "mimetype": "text/x-python",
   "name": "python",
   "nbconvert_exporter": "python",
   "pygments_lexer": "ipython3",
   "version": "3.7.3"
  }
 },
 "nbformat": 4,
 "nbformat_minor": 2
}
