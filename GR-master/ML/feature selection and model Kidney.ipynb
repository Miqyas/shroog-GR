{
 "cells": [
  {
   "cell_type": "code",
   "execution_count": 8,
   "metadata": {},
   "outputs": [],
   "source": [
    "import numpy as np\n",
    "import pandas as pd\n",
    "import matplotlib.pyplot as plt\n",
    "from sklearn.feature_selection import RFE\n",
    "from sklearn.tree import DecisionTreeClassifier\n",
    "from sklearn.neighbors import KNeighborsClassifier\n",
    "from sklearn.ensemble import RandomForestClassifier\n",
    "from sklearn.neural_network import MLPClassifier\n",
    "from sklearn.naive_bayes import GaussianNB\n",
    "from sklearn.svm import SVC\n",
    "from sklearn import metrics\n",
    "from sklearn.linear_model import LogisticRegression\n",
    "from sklearn.model_selection import train_test_split\n",
    "from sklearn.metrics import classification_report\n",
    "from sklearn.metrics import f1_score ,recall_score , precision_score,accuracy_score ,confusion_matrix ,roc_curve, auc, roc_auc_score\n",
    "from sklearn.model_selection import GridSearchCV\n",
    "from mlxtend.feature_selection import SequentialFeatureSelector as SFS\n"
   ]
  },
  {
   "cell_type": "code",
   "execution_count": 4,
   "metadata": {},
   "outputs": [
    {
     "data": {
      "text/plain": [
       "((400, 24), (400,))"
      ]
     },
     "execution_count": 4,
     "metadata": {},
     "output_type": "execute_result"
    }
   ],
   "source": [
    "dataset2 = pd.read_csv(\"export_CKD.csv\",delimiter=\",\")\n",
    "array = dataset2.values\n",
    "#Split dataset\n",
    "#Sample vectors\n",
    "X = array[:,2:26]\n",
    "# Target vector (class labels) \n",
    "y = array[:,26]\n",
    "# Print the shape of the array\n",
    "X.shape, y.shape\n"
   ]
  },
  {
   "cell_type": "code",
   "execution_count": 5,
   "metadata": {},
   "outputs": [],
   "source": [
    "X_train, X_test, y_train, y_test = train_test_split(X,y,test_size=0.2 ,random_state=42)"
   ]
  },
  {
   "cell_type": "code",
   "execution_count": null,
   "metadata": {},
   "outputs": [],
   "source": [
    "def run_svm(X_train, X_test, y_train, y_test):\n",
    "    clf = SVC(kernel='linear',random_state=42)\n",
    "    clf.fit(X_train, y_train)\n",
    "    y_pred = clf.predict(X_test)\n",
    "    confusion_matrix(y_test, y_pred)\n",
    "    classi=classification_report(y_test,y_pred)\n",
    "    print(classi)\n",
    "    fpr, tpr, thresholds = metrics.roc_curve(y_test,y_pred, pos_label=2)\n",
    "    print('Accuracy: ', accuracy_score(y_test, y_pred), \"\\nACU: \",metrics.auc(fpr, tpr) )\n",
    "    "
   ]
  },
  {
   "cell_type": "code",
   "execution_count": null,
   "metadata": {},
   "outputs": [],
   "source": [
    "print(\"The result of svm before features selection:\")\n",
    "run_svm(X_train, X_test, y_train, y_test)"
   ]
  },
  {
   "cell_type": "code",
   "execution_count": null,
   "metadata": {},
   "outputs": [],
   "source": [
    "for index in range(1, 25):\n",
    "    \n",
    "    sel = SFS(SVC(), k_features = index ,verbose= 0,  cv = 4, n_jobs= -1).fit(X_train, y_train)\n",
    "    X_train_rfe = sel.transform(X_train)\n",
    "    X_test_rfe = sel.transform(X_test)\n",
    "    print('Selected Feature: ', index)\n",
    "    run_svm(X_train_rfe, X_test_rfe, y_train, y_test)\n",
    "    print()"
   ]
  },
  {
   "cell_type": "code",
   "execution_count": null,
   "metadata": {},
   "outputs": [],
   "source": [
    "def run_ann(X_train, X_test, y_train, y_test):\n",
    "    clf = MLPClassifier(hidden_layer_sizes=(8,8,8), activation='relu', solver='adam', max_iter=500,random_state=1)\n",
    "    clf.fit(X_train, y_train)\n",
    "    y_pred = clf.predict(X_test)\n",
    "    confusion_matrix(y_test, y_pred)\n",
    "    classi=classification_report(y_test,y_pred)\n",
    "    print(classi)\n",
    "    fpr, tpr, thresholds = metrics.roc_curve(y_test,y_pred, pos_label=2)\n",
    "    print('Accuracy: ', accuracy_score(y_test, y_pred), \"\\nACU: \",metrics.auc(fpr, tpr) )\n",
    "\n",
    "print(\"The result of ANN before features selection:\")\n",
    "run_ann(X_train, X_test, y_train, y_test)\n"
   ]
  },
  {
   "cell_type": "code",
   "execution_count": null,
   "metadata": {},
   "outputs": [],
   "source": [
    "for index in range(1, 25):\n",
    "    sel = SFS(MLPClassifier(hidden_layer_sizes=(8,8,8), activation='relu', solver='adam', max_iter=500,random_state=42), k_features = index ,verbose= 0,  cv = 4, n_jobs= -1).fit(X_train, y_train)\n",
    "    \n",
    "    X_train_rfe = sel.transform(X_train)\n",
    "    X_test_rfe = sel.transform(X_test)\n",
    "    print('Selected Feature: ', index)\n",
    "    run_ann(X_train_rfe, X_test_rfe, y_train, y_test)\n",
    "    print()"
   ]
  },
  {
   "cell_type": "code",
   "execution_count": null,
   "metadata": {},
   "outputs": [],
   "source": [
    "def run_nb(X_train, X_test, y_train, y_test):\n",
    "    clf = GaussianNB().fit(X_train, y_train)\n",
    "    clf.fit(X_train, y_train)\n",
    "    y_pred = clf.predict(X_test)\n",
    "    confusion_matrix(y_test, y_pred)\n",
    "    classi=classification_report(y_test,y_pred)\n",
    "    print(classi)\n",
    "    fpr, tpr, thresholds = metrics.roc_curve(y_test,y_pred, pos_label=2)\n",
    "    print('Accuracy: ', accuracy_score(y_test, y_pred), \"\\nACU: \",metrics.auc(fpr, tpr) )\n",
    "\n",
    "print(\"The result of ANN before features selection:\")\n",
    "run_ann(X_train, X_test, y_train, y_test)"
   ]
  },
  {
   "cell_type": "code",
   "execution_count": null,
   "metadata": {},
   "outputs": [],
   "source": [
    "for index in range(1, 25):\n",
    "    sel = SFS(GaussianNB(), k_features = index ,verbose= 0,  cv = 4, n_jobs= -1).fit(X_train, y_train)\n",
    "    X_train_rfe = sel.transform(X_train)\n",
    "    X_test_rfe = sel.transform(X_test)\n",
    "    print('Selected Feature: ', index)\n",
    "    run_nb(X_train_rfe, X_test_rfe, y_train, y_test)\n",
    "    print()"
   ]
  },
  {
   "cell_type": "code",
   "execution_count": null,
   "metadata": {},
   "outputs": [],
   "source": [
    " def run_knn(X_train, X_test, y_train, y_test):\n",
    "    clf = KNeighborsClassifier(n_neighbors=9).fit(X_train, y_train)\n",
    "    clf.fit(X_train, y_train)\n",
    "    y_pred = clf.predict(X_test)\n",
    "    confusion_matrix(y_test, y_pred)\n",
    "    classi=classification_report(y_test,y_pred)\n",
    "    print(classi)\n",
    "    fpr, tpr, thresholds = metrics.roc_curve(y_test,y_pred, pos_label=2)\n",
    "    print('Accuracy: ', accuracy_score(y_test, y_pred), \"\\nACU: \",metrics.auc(fpr, tpr) )\n",
    "\n",
    "print(\"The result of ANN before features selection:\")\n",
    "run_ann(X_train, X_test, y_train, y_test)"
   ]
  },
  {
   "cell_type": "code",
   "execution_count": null,
   "metadata": {},
   "outputs": [],
   "source": [
    "for index in range(1, 25):\n",
    "    sel = SFS(KNeighborsClassifier(n_neighbors=9), k_features = index ,verbose= 0,  cv = 4, n_jobs= -1).fit(X_train, y_train)\n",
    "    X_train_rfe = sel.transform(X_train)\n",
    "    X_test_rfe = sel.transform(X_test)\n",
    "    print('Selected Feature: ', index)\n",
    "    run_knn(X_train_rfe, X_test_rfe, y_train, y_test)\n",
    "    print()"
   ]
  },
  {
   "cell_type": "code",
   "execution_count": null,
   "metadata": {},
   "outputs": [],
   "source": [
    "def run_DecisionTree(X_train, X_test, y_train, y_test):\n",
    "    clf = DecisionTreeClassifier(random_state=42).fit(X_train, y_train)\n",
    "    y_pred = clf.predict(X_test)\n",
    "    confusion_matrix(y_test, y_pred)\n",
    "    classi=classification_report(y_test,y_pred)\n",
    "    print(classi)\n",
    "    fpr, tpr, thresholds = metrics.roc_curve(y_test,y_pred, pos_label=2)\n",
    "    print('Accuracy: ', accuracy_score(y_test, y_pred), \"\\nACU: \",metrics.auc(fpr, tpr) )\n",
    "print(\"The result of Decision Tree before features selection:\")\n",
    "run_DecisionTree(X_train, X_test, y_train, y_test)"
   ]
  },
  {
   "cell_type": "code",
   "execution_count": null,
   "metadata": {},
   "outputs": [],
   "source": [
    "for index in range(1, 25):\n",
    "    sel =SFS(DecisionTreeClassifier(), k_features = index ,verbose= 0,  cv = 4, n_jobs= -1).fit(X_train, y_train)\n",
    "    X_train_rfe = sel.transform(X_train)\n",
    "    X_test_rfe = sel.transform(X_test)\n",
    "    print('Selected Feature: ', index)\n",
    "    run_DecisionTree(X_train_rfe, X_test_rfe, y_train, y_test)\n",
    "    print()"
   ]
  },
  {
   "cell_type": "code",
   "execution_count": null,
   "metadata": {},
   "outputs": [],
   "source": [
    "def run_randomForest(X_train, X_test, y_train, y_test):\n",
    "    clf = RandomForestClassifier(n_estimators=100, random_state=1, n_jobs=-1)\n",
    "    clf.fit(X_train, y_train)\n",
    "    y_pred = clf.predict(X_test)\n",
    "    confusion_matrix(y_test, y_pred)\n",
    "    classi=classification_report(y_test,y_pred)\n",
    "    print(classi)\n",
    "    fpr, tpr, thresholds = metrics.roc_curve(y_test,y_pred, pos_label=2)\n",
    "    print('Accuracy: ', accuracy_score(y_test, y_pred), \"\\nACU: \",metrics.auc(fpr, tpr) )\n",
    "print(\"The result of Ranodm forest before features selection:\")\n",
    "run_randomForest(X_train, X_test, y_train, y_test)\n"
   ]
  },
  {
   "cell_type": "code",
   "execution_count": null,
   "metadata": {},
   "outputs": [],
   "source": [
    "for index in range(1, 25):\n",
    "    sel = SFS(RandomForestClassifier(n_estimators=100, random_state=42), k_features = index ,verbose= 0,  cv = 4, n_jobs= -1,scoring='accuracy').fit(X_train, y_train)\n",
    "    X_train_rfe = sel.transform(X_train)\n",
    "    \n",
    "    X_test_rfe = sel.transform(X_test)\n",
    "    print('Selected Feature: ', index)\n",
    "    run_randomForest(X_train_rfe, X_test_rfe, y_train, y_test)\n",
    "    print()"
   ]
  },
  {
   "cell_type": "code",
   "execution_count": null,
   "metadata": {},
   "outputs": [],
   "source": [
    "for index in range(1, 25):\n",
    "    sel = RFE(RandomForestClassifier(n_estimators=100, random_state=42), n_features_to_select = index).fit(X_train, y_train)\n",
    "    sel.get_support()\n",
    "    X_train_rfe = sel.transform(X_train)\n",
    "    X_test_rfe = sel.transform(X_test)\n",
    "    print('Selected Feature: ', index)\n",
    "    run_randomForest(X_train_rfe, X_test_rfe, y_train, y_test)\n",
    "    print()"
   ]
  },
  {
   "cell_type": "code",
   "execution_count": null,
   "metadata": {},
   "outputs": [],
   "source": []
  },
  {
   "cell_type": "code",
   "execution_count": null,
   "metadata": {},
   "outputs": [],
   "source": []
  }
 ],
 "metadata": {
  "kernelspec": {
   "display_name": "Python 3",
   "language": "python",
   "name": "python3"
  },
  "language_info": {
   "codemirror_mode": {
    "name": "ipython",
    "version": 3
   },
   "file_extension": ".py",
   "mimetype": "text/x-python",
   "name": "python",
   "nbconvert_exporter": "python",
   "pygments_lexer": "ipython3",
   "version": "3.7.3"
  }
 },
 "nbformat": 4,
 "nbformat_minor": 2
}
